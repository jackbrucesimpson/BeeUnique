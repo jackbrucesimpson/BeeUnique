{
 "cells": [
  {
   "cell_type": "markdown",
   "metadata": {},
   "source": [
    "# Train Model"
   ]
  },
  {
   "cell_type": "code",
   "execution_count": 37,
   "metadata": {},
   "outputs": [
    {
     "name": "stdout",
     "output_type": "stream",
     "text": [
      "The autoreload extension is already loaded. To reload it, use:\n",
      "  %reload_ext autoreload\n",
      "The version_information extension is already loaded. To reload it, use:\n",
      "  %reload_ext version_information\n"
     ]
    },
    {
     "data": {
      "application/json": {
       "Software versions": [
        {
         "module": "Python",
         "version": "2.7.13 64bit [GCC 4.2.1 Compatible Apple LLVM 8.0.0 (clang-800.0.42.1)]"
        },
        {
         "module": "IPython",
         "version": "5.3.0"
        },
        {
         "module": "OS",
         "version": "Darwin 16.5.0 x86_64 i386 64bit"
        },
        {
         "module": "numpy",
         "version": "1.12.1"
        },
        {
         "module": "scipy",
         "version": "0.19.0"
        },
        {
         "module": "matplotlib",
         "version": "2.0.0"
        },
        {
         "module": "pandas",
         "version": "0.19.2"
        }
       ]
      },
      "text/html": [
       "<table><tr><th>Software</th><th>Version</th></tr><tr><td>Python</td><td>2.7.13 64bit [GCC 4.2.1 Compatible Apple LLVM 8.0.0 (clang-800.0.42.1)]</td></tr><tr><td>IPython</td><td>5.3.0</td></tr><tr><td>OS</td><td>Darwin 16.5.0 x86_64 i386 64bit</td></tr><tr><td>numpy</td><td>1.12.1</td></tr><tr><td>scipy</td><td>0.19.0</td></tr><tr><td>matplotlib</td><td>2.0.0</td></tr><tr><td>pandas</td><td>0.19.2</td></tr><tr><td colspan='2'>Thu Apr 27 14:35:06 2017 AEST</td></tr></table>"
      ],
      "text/latex": [
       "\\begin{tabular}{|l|l|}\\hline\n",
       "{\\bf Software} & {\\bf Version} \\\\ \\hline\\hline\n",
       "Python & 2.7.13 64bit [GCC 4.2.1 Compatible Apple LLVM 8.0.0 (clang-800.0.42.1)] \\\\ \\hline\n",
       "IPython & 5.3.0 \\\\ \\hline\n",
       "OS & Darwin 16.5.0 x86\\_64 i386 64bit \\\\ \\hline\n",
       "numpy & 1.12.1 \\\\ \\hline\n",
       "scipy & 0.19.0 \\\\ \\hline\n",
       "matplotlib & 2.0.0 \\\\ \\hline\n",
       "pandas & 0.19.2 \\\\ \\hline\n",
       "\\hline \\multicolumn{2}{|l|}{Thu Apr 27 14:35:06 2017 AEST} \\\\ \\hline\n",
       "\\end{tabular}\n"
      ],
      "text/plain": [
       "Software versions\n",
       "Python 2.7.13 64bit [GCC 4.2.1 Compatible Apple LLVM 8.0.0 (clang-800.0.42.1)]\n",
       "IPython 5.3.0\n",
       "OS Darwin 16.5.0 x86_64 i386 64bit\n",
       "numpy 1.12.1\n",
       "scipy 0.19.0\n",
       "matplotlib 2.0.0\n",
       "pandas 0.19.2\n",
       "Thu Apr 27 14:35:06 2017 AEST"
      ]
     },
     "execution_count": 37,
     "metadata": {},
     "output_type": "execute_result"
    }
   ],
   "source": [
    "%matplotlib inline\n",
    "#from pylab import rcParams\n",
    "#rcParams['figure.figsize'] = 12, 8\n",
    "\n",
    "%load_ext autoreload\n",
    "%autoreload 2\n",
    "\n",
    "%load_ext version_information\n",
    "%version_information numpy, scipy, matplotlib, pandas"
   ]
  },
  {
   "cell_type": "code",
   "execution_count": 60,
   "metadata": {
    "collapsed": true
   },
   "outputs": [],
   "source": [
    "import cv2\n",
    "import os\n",
    "import matplotlib.pyplot as plt\n",
    "import matplotlib.cm as cm\n",
    "import numpy as np\n",
    "import glob\n",
    "import sys\n",
    "from image_tools import processing_pipeline\n",
    "#sys.path.append(\"..\")\n",
    "#from src. import \n",
    "\n",
    "np.random.seed(0)\n",
    "\n",
    "def view(image):\n",
    "    plt.figure()\n",
    "    plt.imshow(image, cmap = cm.Greys_r)"
   ]
  },
  {
   "cell_type": "code",
   "execution_count": 61,
   "metadata": {},
   "outputs": [],
   "source": [
    "list_image_directory_paths = glob.glob('/Users/jacksimpson/Data/beeunique/output/Classified/*/')\n",
    "\n",
    "class_images_dict = {}\n",
    "for image_directory_path in list_image_directory_paths:\n",
    "    image_class_name = os.path.basename(os.path.normpath(image_directory_path))\n",
    "    class_images_dict[image_class_name] = []\n",
    "    \n",
    "    for i, image_file in enumerate(glob.glob(image_directory_path + '*.png')):\n",
    "        if i % 2 == 0:\n",
    "            image = cv2.imread(image_file, cv2.IMREAD_GRAYSCALE)\n",
    "            class_images_dict[image_class_name].append(image)"
   ]
  },
  {
   "cell_type": "code",
   "execution_count": 62,
   "metadata": {},
   "outputs": [
    {
     "data": {
      "text/plain": [
       "{'0': 2793,\n",
       " '1': 2791,\n",
       " '1_Note': 2866,\n",
       " '2': 2760,\n",
       " '2_Note': 2638,\n",
       " '3': 2938,\n",
       " '3_Lines': 2746,\n",
       " '4': 2769,\n",
       " '5': 2836,\n",
       " '6': 2661,\n",
       " '7': 2700,\n",
       " '8': 2689,\n",
       " 'AA': 2837,\n",
       " 'Ampersand': 2821,\n",
       " 'Ankh': 2987,\n",
       " 'Arrow_Hollow': 3119,\n",
       " 'Arrow_Line': 2706,\n",
       " 'Asterisk': 2847,\n",
       " 'BB': 2619,\n",
       " 'Circle_Cross': 2198,\n",
       " 'Circle_Half': 2544,\n",
       " 'Circle_Line': 2856,\n",
       " 'DD': 2566,\n",
       " 'Diamond': 2869,\n",
       " 'Dot': 2990,\n",
       " 'Dot_3_Lines': 3084,\n",
       " 'EE': 2612,\n",
       " 'GG': 2792,\n",
       " 'HH': 2604,\n",
       " 'Hash': 2865,\n",
       " 'Heart': 2850,\n",
       " 'JJ': 2868,\n",
       " 'KK': 2452,\n",
       " 'Leaf': 2993,\n",
       " 'MM': 3079,\n",
       " 'NN': 2866,\n",
       " 'Necklace': 2986,\n",
       " 'Omega': 2163,\n",
       " 'PP': 5033,\n",
       " 'Peace': 2671,\n",
       " 'Pillars': 2888,\n",
       " 'Plane': 2864,\n",
       " 'Plant': 2825,\n",
       " 'Power': 2852,\n",
       " 'Queen': 4408,\n",
       " 'Question_Mark': 2833,\n",
       " 'RR': 2452,\n",
       " 'Radioactive': 2911,\n",
       " 'SS': 4165,\n",
       " 'Scissors': 2550,\n",
       " 'TT': 2253,\n",
       " 'Tadpole': 2879,\n",
       " 'Triangle': 3067,\n",
       " 'Trident': 2895,\n",
       " 'UU': 2707,\n",
       " 'Umbrella': 2707,\n",
       " 'VV': 2759,\n",
       " 'XX': 2782,\n",
       " 'ZZ': 2716,\n",
       " 'a': 2768,\n",
       " 'b': 2781,\n",
       " 'e': 2755,\n",
       " 'f': 2691,\n",
       " 'g': 2740,\n",
       " 'h': 2804,\n",
       " 'i': 3018,\n",
       " 'j': 3091,\n",
       " 'n': 2601,\n",
       " 'r': 2721,\n",
       " 't': 2869,\n",
       " 'w': 2813,\n",
       " 'y': 2795}"
      ]
     },
     "execution_count": 62,
     "metadata": {},
     "output_type": "execute_result"
    }
   ],
   "source": [
    "{k: len(class_images_dict[k]) for k in class_images_dict.keys()}"
   ]
  },
  {
   "cell_type": "code",
   "execution_count": 63,
   "metadata": {},
   "outputs": [
    {
     "name": "stdout",
     "output_type": "stream",
     "text": [
      "Dot_3_Lines has 3084 images\n",
      "RR has 2452 images\n",
      "Queen has 4408 images\n",
      "Leaf has 2993 images\n",
      "ZZ has 2716 images\n",
      "BB has 2619 images\n",
      "DD has 2566 images\n",
      "Peace has 2671 images\n",
      "Pillars has 2888 images\n",
      "HH has 2604 images\n",
      "Ampersand has 2821 images\n",
      "JJ has 2868 images\n",
      "n has 2601 images\n",
      "Arrow_Hollow has 3119 images\n",
      "Circle_Cross has 2198 images\n",
      "Plant has 2825 images\n",
      "Diamond has 2869 images\n",
      "Hash has 2865 images\n",
      "NN has 2866 images\n",
      "Ankh has 2987 images\n",
      "Question_Mark has 2833 images\n",
      "TT has 2253 images\n",
      "Trident has 2895 images\n",
      "Asterisk has 2847 images\n",
      "UU has 2707 images\n",
      "1 has 2791 images\n",
      "0 has 2793 images\n",
      "3 has 2938 images\n",
      "2 has 2760 images\n",
      "3_Lines has 2746 images\n",
      "4 has 2769 images\n",
      "7 has 2700 images\n",
      "6 has 2661 images\n",
      "5 has 2836 images\n",
      "Omega has 2163 images\n",
      "Umbrella has 2707 images\n",
      "AA has 2837 images\n",
      "SS has 4165 images\n",
      "Circle_Line has 2856 images\n",
      "Radioactive has 2911 images\n",
      "w has 2813 images\n",
      "Tadpole has 2879 images\n",
      "EE has 2612 images\n",
      "Circle_Half has 2544 images\n",
      "PP has 5033 images\n",
      "GG has 2792 images\n",
      "XX has 2782 images\n",
      "VV has 2759 images\n",
      "8 has 2689 images\n",
      "Necklace has 2986 images\n",
      "Triangle has 3067 images\n",
      "Dot has 2990 images\n",
      "a has 2768 images\n",
      "Heart has 2850 images\n",
      "b has 2781 images\n",
      "e has 2755 images\n",
      "Power has 2852 images\n",
      "g has 2740 images\n",
      "f has 2691 images\n",
      "i has 3018 images\n",
      "h has 2804 images\n",
      "Arrow_Line has 2706 images\n",
      "j has 3091 images\n",
      "Plane has 2864 images\n",
      "2_Note has 2638 images\n",
      "KK has 2452 images\n",
      "r has 2721 images\n",
      "t has 2869 images\n",
      "1_Note has 2866 images\n",
      "y has 2795 images\n",
      "Scissors has 2550 images\n",
      "MM has 3079 images\n"
     ]
    }
   ],
   "source": [
    "X = []\n",
    "image_class_names_index = 0\n",
    "image_class_names = {}\n",
    "y = []\n",
    "for image_class in class_images_dict.keys():\n",
    "    image_class_names[image_class_names_index] = image_class\n",
    "    print('{} has {} images'.format(image_class, len(class_images_dict[image_class])))\n",
    "    for im in class_images_dict[image_class]:\n",
    "        generated_images = processing_pipeline(im)\n",
    "        X.extend(generated_images)\n",
    "        y.extend([image_class_names_index] * len(generated_images))\n",
    "    image_class_names_index += 1\n",
    "\n",
    "#del class_images_dict\n",
    "X = np.array(X)\n",
    "y = np.array(y)"
   ]
  },
  {
   "cell_type": "code",
   "execution_count": 64,
   "metadata": {},
   "outputs": [
    {
     "name": "stdout",
     "output_type": "stream",
     "text": [
      "((4305504, 28, 28), (4305504,))\n",
      "set([0, 1, 2, 3, 4, 5, 6, 7, 8, 9, 10, 11, 12, 13, 14, 15, 16, 17, 18, 19, 20, 21, 22, 23, 24, 25, 26, 27, 28, 29, 30, 31, 32, 33, 34, 35, 36, 37, 38, 39, 40, 41, 42, 43, 44, 45, 46, 47, 48, 49, 50, 51, 52, 53, 54, 55, 56, 57, 58, 59, 60, 61, 62, 63, 64, 65, 66, 67, 68, 69, 70, 71])\n",
      "RR\n"
     ]
    }
   ],
   "source": [
    "print(X.shape, y.shape)\n",
    "print(set(y))\n",
    "print(image_class_names[1])"
   ]
  },
  {
   "cell_type": "code",
   "execution_count": 68,
   "metadata": {},
   "outputs": [
    {
     "name": "stdout",
     "output_type": "stream",
     "text": [
      "((3444403, 28, 28), (3444403,), (861101, 28, 28), (861101,))\n"
     ]
    }
   ],
   "source": [
    "from sklearn.model_selection import train_test_split\n",
    "\n",
    "X_train, X_test, y_train, y_test = train_test_split(X, y, test_size = 0.2, random_state=4)\n",
    "print(X_train.shape, y_train.shape, X_test.shape, y_test.shape)"
   ]
  },
  {
   "cell_type": "markdown",
   "metadata": {},
   "source": [
    "## Model"
   ]
  },
  {
   "cell_type": "code",
   "execution_count": 69,
   "metadata": {
    "collapsed": true
   },
   "outputs": [],
   "source": [
    "from keras.models import Sequential\n",
    "from keras.layers import Dense, Dropout, Activation, Flatten\n",
    "from keras.layers import Convolution2D, MaxPooling2D\n",
    "from keras.utils import np_utils\n",
    "from keras import backend as K"
   ]
  },
  {
   "cell_type": "code",
   "execution_count": 73,
   "metadata": {},
   "outputs": [],
   "source": [
    "Y_train = np_utils.to_categorical(y_train, len(set(y_train)))\n",
    "Y_test = np_utils.to_categorical(y_test, len(set(y_train)))"
   ]
  },
  {
   "cell_type": "code",
   "execution_count": 74,
   "metadata": {},
   "outputs": [
    {
     "data": {
      "text/plain": [
       "(3444403, 28, 28, 1)"
      ]
     },
     "execution_count": 74,
     "metadata": {},
     "output_type": "execute_result"
    }
   ],
   "source": [
    "img_rows = 28\n",
    "img_cols = 28\n",
    "\n",
    "if K.image_dim_ordering() == 'th':\n",
    "    X_train = X_train.reshape(X_train.shape[0], 1, img_rows, img_cols)\n",
    "    X_test = X_test.reshape(X_test.shape[0], 1, img_rows, img_cols)\n",
    "else:\n",
    "    X_train = X_train.reshape(X_train.shape[0], img_rows, img_cols, 1)\n",
    "    X_test = X_test.reshape(X_test.shape[0], img_rows, img_cols, 1)\n",
    "\n",
    "X_train.shape"
   ]
  },
  {
   "cell_type": "code",
   "execution_count": 75,
   "metadata": {
    "collapsed": true
   },
   "outputs": [],
   "source": [
    "# convert data to float32 and normalize from 0-1\n",
    "X_train = X_train.astype('float32')\n",
    "X_test = X_test.astype('float32')\n",
    "X_train /= 255\n",
    "X_test /= 255"
   ]
  },
  {
   "cell_type": "code",
   "execution_count": null,
   "metadata": {
    "collapsed": true
   },
   "outputs": [],
   "source": [
    "model = Sequential()\n",
    "# input layer\n",
    "#model.add(Convolution2D(32, 3, 3, activation='relu', input_shape=(1,28,28))) # if theano backend\n",
    "model.add(Convolution2D(32, 3, 3, activation='relu', input_shape=(28, 28, 1)))\n",
    "\n",
    "model.add(Convolution2D(32, 3, 3, activation='relu'))\n",
    "model.add(MaxPooling2D(pool_size=(2,2)))\n",
    "model.add(Dropout(0.25))\n",
    "\n",
    "model.add(Flatten())\n",
    "model.add(Dense(128, activation='relu'))\n",
    "model.add(Dropout(0.5))\n",
    "model.add(Dense(72, activation='softmax'))\n",
    "\n",
    "model.compile(loss='categorical_crossentropy', optimizer='adam', metrics=['accuracy'])"
   ]
  },
  {
   "cell_type": "code",
   "execution_count": null,
   "metadata": {},
   "outputs": [
    {
     "name": "stderr",
     "output_type": "stream",
     "text": [
      "/usr/local/lib/python2.7/site-packages/keras/models.py:834: UserWarning: The `nb_epoch` argument in `fit` has been renamed `epochs`.\n",
      "  warnings.warn('The `nb_epoch` argument in `fit` '\n"
     ]
    },
    {
     "name": "stdout",
     "output_type": "stream",
     "text": [
      "Epoch 1/10\n",
      "1879136/3444403 [===============>..............] - ETA: 2819s - loss: 1.8702 - acc: 0.4443"
     ]
    }
   ],
   "source": [
    "model.fit(X_train, Y_train, batch_size=32, epochs=10, verbose=1)"
   ]
  },
  {
   "cell_type": "code",
   "execution_count": null,
   "metadata": {
    "collapsed": true
   },
   "outputs": [],
   "source": [
    "score = model.evaluate(X_test, Y_test) #, verbose=0\n",
    "score"
   ]
  },
  {
   "cell_type": "code",
   "execution_count": null,
   "metadata": {
    "collapsed": true
   },
   "outputs": [],
   "source": [
    "predictions = model.predict(X)\n",
    "# round predictions\n",
    "rounded = [round(x[0]) for x in predictions]\n",
    "print(rounded)"
   ]
  },
  {
   "cell_type": "code",
   "execution_count": null,
   "metadata": {
    "collapsed": true
   },
   "outputs": [],
   "source": [
    "Serialize model to JSON\n",
    "model_json = model.to_json()\n",
    "with open(\"model.json\", \"w\") as json_file:\n",
    "    json_file.write(model_json)\n",
    "# serialize weights to HDF5\n",
    "model.save_weights(\"model.h5\")\n",
    "Load model\n",
    "json_file = open('model.json', 'r')\n",
    "loaded_model_json = json_file.read()\n",
    "json_file.close()\n",
    "loaded_model = model_from_json(loaded_model_json)\n",
    "# load weights into new model\n",
    "loaded_model.load_weights(\"model.h5\")\n",
    "\n",
    "loaded_model.compile(loss='binary_crossentropy', optimizer='rmsprop', metrics=['accuracy'])\n",
    "score = loaded_model.evaluate(X, Y, verbose=0)\n",
    "print (\"%s: %.2f%%\" % (loaded_model.metrics_names[1], score[1]*100))\n",
    "Save model to YAML\n",
    "model_yaml = model.to_yaml()\n",
    "with open(\"model.yaml\", \"w\") as yaml_file:\n",
    "    yaml_file.write(model_yaml)\n",
    "# serialize weights to HDF5\n",
    "model.save_weights(\"model.h5\")\n",
    "Load model\n",
    "yaml_file = open('model.yaml', 'r')\n",
    "loaded_model_yaml = yaml_file.read()\n",
    "yaml_file.close()\n",
    "loaded_model = model_from_yaml(loaded_model_yaml)\n",
    "# load weights into new model\n",
    "loaded_model.load_weights(\"model.h5\")\n",
    "\n",
    "# evaluate loaded model on test data\n",
    "loaded_model.compile(loss='binary_crossentropy', optimizer='rmsprop', metrics=['accuracy'])\n",
    "score = loaded_model.evaluate(X, Y, verbose=0)\n",
    "print (\"%s: %.2f%%\" % (loaded_model.metrics_names[1], score[1]*100))"
   ]
  }
 ],
 "metadata": {
  "kernelspec": {
   "display_name": "Python 2",
   "language": "python",
   "name": "python2"
  },
  "language_info": {
   "codemirror_mode": {
    "name": "ipython",
    "version": 2
   },
   "file_extension": ".py",
   "mimetype": "text/x-python",
   "name": "python",
   "nbconvert_exporter": "python",
   "pygments_lexer": "ipython2",
   "version": "2.7.13"
  }
 },
 "nbformat": 4,
 "nbformat_minor": 2
}
